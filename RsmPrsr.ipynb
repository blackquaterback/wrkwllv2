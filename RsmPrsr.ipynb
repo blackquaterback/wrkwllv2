{
 "cells": [
  {
   "cell_type": "markdown",
   "metadata": {
    "id": "9k63UJrSDqcD"
   },
   "source": [
    "# **Importing Librarires**"
   ]
  },
  {
   "cell_type": "code",
   "execution_count": 1,
   "metadata": {
    "colab": {
     "base_uri": "https://localhost:8080/"
    },
    "id": "OluK7edWt0h_",
    "outputId": "74ece9e9-94cc-4860-fa4e-33b8df9144f3"
   },
   "outputs": [
    {
     "name": "stdout",
     "output_type": "stream",
     "text": [
      "Requirement already satisfied: docx2txt in c:\\users\\saurabh\\desktop\\python\\anaconda\\lib\\site-packages (0.8)\n",
      "Requirement already satisfied: pypandoc in c:\\users\\saurabh\\desktop\\python\\anaconda\\lib\\site-packages (1.13)\n",
      "Requirement already satisfied: python-docx in c:\\users\\saurabh\\desktop\\python\\anaconda\\lib\\site-packages (1.1.2)\n",
      "Requirement already satisfied: lxml>=3.1.0 in c:\\users\\saurabh\\desktop\\python\\anaconda\\lib\\site-packages (from python-docx) (4.8.0)\n",
      "Requirement already satisfied: typing-extensions>=4.9.0 in c:\\users\\saurabh\\desktop\\python\\anaconda\\lib\\site-packages (from python-docx) (4.12.2)\n",
      "Requirement already satisfied: pydrive in c:\\users\\saurabh\\desktop\\python\\anaconda\\lib\\site-packages (1.3.1)\n",
      "Requirement already satisfied: python-docx in c:\\users\\saurabh\\desktop\\python\\anaconda\\lib\\site-packages (1.1.2)\n",
      "Requirement already satisfied: google-api-python-client>=1.2 in c:\\users\\saurabh\\desktop\\python\\anaconda\\lib\\site-packages (from pydrive) (2.133.0)\n",
      "Requirement already satisfied: oauth2client>=4.0.0 in c:\\users\\saurabh\\desktop\\python\\anaconda\\lib\\site-packages (from pydrive) (4.1.3)\n",
      "Requirement already satisfied: PyYAML>=3.0 in c:\\users\\saurabh\\desktop\\python\\anaconda\\lib\\site-packages (from pydrive) (6.0)\n",
      "Requirement already satisfied: typing-extensions>=4.9.0 in c:\\users\\saurabh\\desktop\\python\\anaconda\\lib\\site-packages (from python-docx) (4.12.2)\n",
      "Requirement already satisfied: lxml>=3.1.0 in c:\\users\\saurabh\\desktop\\python\\anaconda\\lib\\site-packages (from python-docx) (4.8.0)\n",
      "Requirement already satisfied: google-auth!=2.24.0,!=2.25.0,<3.0.0.dev0,>=1.32.0 in c:\\users\\saurabh\\desktop\\python\\anaconda\\lib\\site-packages (from google-api-python-client>=1.2->pydrive) (2.30.0)\n",
      "Requirement already satisfied: uritemplate<5,>=3.0.1 in c:\\users\\saurabh\\desktop\\python\\anaconda\\lib\\site-packages (from google-api-python-client>=1.2->pydrive) (4.1.1)\n",
      "Requirement already satisfied: google-auth-httplib2<1.0.0,>=0.2.0 in c:\\users\\saurabh\\desktop\\python\\anaconda\\lib\\site-packages (from google-api-python-client>=1.2->pydrive) (0.2.0)\n",
      "Requirement already satisfied: httplib2<1.dev0,>=0.19.0 in c:\\users\\saurabh\\desktop\\python\\anaconda\\lib\\site-packages (from google-api-python-client>=1.2->pydrive) (0.22.0)\n",
      "Requirement already satisfied: google-api-core!=2.0.*,!=2.1.*,!=2.2.*,!=2.3.0,<3.0.0.dev0,>=1.31.5 in c:\\users\\saurabh\\desktop\\python\\anaconda\\lib\\site-packages (from google-api-python-client>=1.2->pydrive) (2.19.0)\n",
      "Requirement already satisfied: protobuf!=3.20.0,!=3.20.1,!=4.21.0,!=4.21.1,!=4.21.2,!=4.21.3,!=4.21.4,!=4.21.5,<5.0.0.dev0,>=3.19.5 in c:\\users\\saurabh\\desktop\\python\\anaconda\\lib\\site-packages (from google-api-core!=2.0.*,!=2.1.*,!=2.2.*,!=2.3.0,<3.0.0.dev0,>=1.31.5->google-api-python-client>=1.2->pydrive) (4.25.3)\n",
      "Requirement already satisfied: googleapis-common-protos<2.0.dev0,>=1.56.2 in c:\\users\\saurabh\\desktop\\python\\anaconda\\lib\\site-packages (from google-api-core!=2.0.*,!=2.1.*,!=2.2.*,!=2.3.0,<3.0.0.dev0,>=1.31.5->google-api-python-client>=1.2->pydrive) (1.63.1)\n",
      "Requirement already satisfied: requests<3.0.0.dev0,>=2.18.0 in c:\\users\\saurabh\\desktop\\python\\anaconda\\lib\\site-packages (from google-api-core!=2.0.*,!=2.1.*,!=2.2.*,!=2.3.0,<3.0.0.dev0,>=1.31.5->google-api-python-client>=1.2->pydrive) (2.27.1)\n",
      "Requirement already satisfied: proto-plus<2.0.0dev,>=1.22.3 in c:\\users\\saurabh\\desktop\\python\\anaconda\\lib\\site-packages (from google-api-core!=2.0.*,!=2.1.*,!=2.2.*,!=2.3.0,<3.0.0.dev0,>=1.31.5->google-api-python-client>=1.2->pydrive) (1.23.0)\n",
      "Requirement already satisfied: cachetools<6.0,>=2.0.0 in c:\\users\\saurabh\\desktop\\python\\anaconda\\lib\\site-packages (from google-auth!=2.24.0,!=2.25.0,<3.0.0.dev0,>=1.32.0->google-api-python-client>=1.2->pydrive) (4.2.2)\n",
      "Requirement already satisfied: rsa<5,>=3.1.4 in c:\\users\\saurabh\\desktop\\python\\anaconda\\lib\\site-packages (from google-auth!=2.24.0,!=2.25.0,<3.0.0.dev0,>=1.32.0->google-api-python-client>=1.2->pydrive) (4.7.2)\n",
      "Requirement already satisfied: pyasn1-modules>=0.2.1 in c:\\users\\saurabh\\desktop\\python\\anaconda\\lib\\site-packages (from google-auth!=2.24.0,!=2.25.0,<3.0.0.dev0,>=1.32.0->google-api-python-client>=1.2->pydrive) (0.2.8)\n",
      "Requirement already satisfied: pyparsing!=3.0.0,!=3.0.1,!=3.0.2,!=3.0.3,<4,>=2.4.2 in c:\\users\\saurabh\\desktop\\python\\anaconda\\lib\\site-packages (from httplib2<1.dev0,>=0.19.0->google-api-python-client>=1.2->pydrive) (3.0.4)\n",
      "Requirement already satisfied: pyasn1>=0.1.7 in c:\\users\\saurabh\\desktop\\python\\anaconda\\lib\\site-packages (from oauth2client>=4.0.0->pydrive) (0.4.8)\n",
      "Requirement already satisfied: six>=1.6.1 in c:\\users\\saurabh\\desktop\\python\\anaconda\\lib\\site-packages (from oauth2client>=4.0.0->pydrive) (1.16.0)\n",
      "Requirement already satisfied: urllib3<1.27,>=1.21.1 in c:\\users\\saurabh\\desktop\\python\\anaconda\\lib\\site-packages (from requests<3.0.0.dev0,>=2.18.0->google-api-core!=2.0.*,!=2.1.*,!=2.2.*,!=2.3.0,<3.0.0.dev0,>=1.31.5->google-api-python-client>=1.2->pydrive) (1.26.9)\n",
      "Requirement already satisfied: idna<4,>=2.5 in c:\\users\\saurabh\\desktop\\python\\anaconda\\lib\\site-packages (from requests<3.0.0.dev0,>=2.18.0->google-api-core!=2.0.*,!=2.1.*,!=2.2.*,!=2.3.0,<3.0.0.dev0,>=1.31.5->google-api-python-client>=1.2->pydrive) (3.3)\n",
      "Requirement already satisfied: charset-normalizer~=2.0.0 in c:\\users\\saurabh\\desktop\\python\\anaconda\\lib\\site-packages (from requests<3.0.0.dev0,>=2.18.0->google-api-core!=2.0.*,!=2.1.*,!=2.2.*,!=2.3.0,<3.0.0.dev0,>=1.31.5->google-api-python-client>=1.2->pydrive) (2.0.4)\n",
      "Requirement already satisfied: certifi>=2017.4.17 in c:\\users\\saurabh\\desktop\\python\\anaconda\\lib\\site-packages (from requests<3.0.0.dev0,>=2.18.0->google-api-core!=2.0.*,!=2.1.*,!=2.2.*,!=2.3.0,<3.0.0.dev0,>=1.31.5->google-api-python-client>=1.2->pydrive) (2021.10.8)\n",
      "Requirement already satisfied: PyMuPDF in c:\\users\\saurabh\\desktop\\python\\anaconda\\lib\\site-packages (1.24.5)\n",
      "Requirement already satisfied: PyMuPDFb==1.24.3 in c:\\users\\saurabh\\desktop\\python\\anaconda\\lib\\site-packages (from PyMuPDF) (1.24.3)\n",
      "Requirement already satisfied: Spire.Doc in c:\\users\\saurabh\\desktop\\python\\anaconda\\lib\\site-packages (12.4.0)\n",
      "Requirement already satisfied: plum-dispatch==1.7.4 in c:\\users\\saurabh\\desktop\\python\\anaconda\\lib\\site-packages (from Spire.Doc) (1.7.4)\n"
     ]
    }
   ],
   "source": [
    "#from google.colab import drive\n",
    "#drive.mount('/content/drive')\n",
    "!pip install docx2txt\n",
    "#!pip install --upgrade google-api-python-client google-auth-httplib2 google-auth-oauthlib\n",
    "!pip install pypandoc python-docx\n",
    "!pip install pydrive python-docx\n",
    "!pip install PyMuPDF\n",
    "import pymupdf\n",
    "import docx2txt\n",
    "!pip install Spire.Doc\n",
    "from spire.doc import *\n",
    "from spire.doc.common import *\n",
    "import itertools\n",
    "!pip install -q openai"
   ]
  },
  {
   "cell_type": "code",
   "execution_count": 37,
   "metadata": {
    "colab": {
     "base_uri": "https://localhost:8080/",
     "height": 185
    },
    "id": "x3QAylpDDpGz",
    "outputId": "9c856bd6-d546-404e-e507-a197c291e6c7"
   },
   "outputs": [
    {
     "name": "stdout",
     "output_type": "stream",
     "text": [
      "C:\\Users\\SAURABH\\Desktop\\Proso\\Resume\n"
     ]
    }
   ],
   "source": [
    "import os\n",
    "os.getcwd()\n",
    "os.chdir(r'C:\\Usetrs\\SAURABH\\Desktop\\Proso\\Resume')\n",
    "print(os.getcwd())"
   ]
  },
  {
   "cell_type": "markdown",
   "metadata": {
    "id": "vD5G_i0O8zVI"
   },
   "source": [
    "# Extracting the files from the drive & cleaning"
   ]
  },
  {
   "cell_type": "code",
   "execution_count": 38,
   "metadata": {
    "colab": {
     "base_uri": "https://localhost:8080/"
    },
    "id": "Wk18MrY9-P9b",
    "outputId": "81ebdaae-235e-47b9-ba0c-4d1f0749fe5b"
   },
   "outputs": [],
   "source": [
    "import os\n",
    "import glob\n",
    "directory_path = os.getcwd()\n",
    "file_paths = glob.glob(os.path.join(directory_path,'**','*.*'), recursive=True)"
   ]
  },
  {
   "cell_type": "code",
   "execution_count": 39,
   "metadata": {},
   "outputs": [
    {
     "name": "stdout",
     "output_type": "stream",
     "text": [
      "13\n",
      "['C:\\\\Users\\\\SAURABH\\\\Desktop\\\\Proso\\\\Resume\\\\C195_Anusha S_Oracle Cloud Payroll Offshore Consultant.docx', 'C:\\\\Users\\\\SAURABH\\\\Desktop\\\\Proso\\\\Resume\\\\C196_Vijay Galimutti_Payroll Offshore Consultant.docx', 'C:\\\\Users\\\\SAURABH\\\\Desktop\\\\Proso\\\\Resume\\\\C197_Charankanthareddy_Payroll Consultant.docx', 'C:\\\\Users\\\\SAURABH\\\\Desktop\\\\Proso\\\\Resume\\\\C210_Lokesh Lingutla_Oracle Cloud Payroll.docx', 'C:\\\\Users\\\\SAURABH\\\\Desktop\\\\Proso\\\\Resume\\\\C215_Rajendra Prasad K_Oracle Cloud Payroll.docx', 'C:\\\\Users\\\\SAURABH\\\\Desktop\\\\Proso\\\\Resume\\\\C216_Srinivasulu Ashwini__Oracle Cloud Payroll.docx', 'C:\\\\Users\\\\SAURABH\\\\Desktop\\\\Proso\\\\Resume\\\\C217_Vaibhav Ramesh Bakade_Oracle Cloud Payroll.docx', 'C:\\\\Users\\\\SAURABH\\\\Desktop\\\\Proso\\\\Resume\\\\CV104_Amit Kumar_Oracle Cloud Payroll.docx', 'C:\\\\Users\\\\SAURABH\\\\Desktop\\\\Proso\\\\Resume\\\\CV105_Chandrajit Saha_Oracle Cloud Payroll Consultant.docx', 'C:\\\\Users\\\\SAURABH\\\\Desktop\\\\Proso\\\\Resume\\\\CV106_Pratik Mohapatra_Oracle Cloud Payroll Consultant.docx', 'C:\\\\Users\\\\SAURABH\\\\Desktop\\\\Proso\\\\Resume\\\\CV109_Ram Kalyan_Oracle Cloud Payroll Consultant.docx', 'C:\\\\Users\\\\SAURABH\\\\Desktop\\\\Proso\\\\Resume\\\\CV96_Padmavathi Yedulla_Oracle Cloud Payroll Consutlant.docx', 'C:\\\\Users\\\\SAURABH\\\\Desktop\\\\Proso\\\\Resume\\\\CV96_Padmavathi Yedulla_Oracle Cloud Payroll Consutlant.pdf']\n"
     ]
    }
   ],
   "source": [
    "def filter_files(file_list, term):\n",
    "    filtered_list = [file for file in file_list if term in file]\n",
    "    return filtered_list\n",
    "term = \"Payroll\"\n",
    "file_paths = filter_files(file_paths, term)\n",
    "print(len(file_paths))\n",
    "print(file_paths)"
   ]
  },
  {
   "cell_type": "markdown",
   "metadata": {
    "id": "gClUyXrwmqrM"
   },
   "source": [
    "# **Loading JD**"
   ]
  },
  {
   "cell_type": "code",
   "execution_count": 117,
   "metadata": {
    "id": "rt8c0MXnmniF"
   },
   "outputs": [
    {
     "name": "stdout",
     "output_type": "stream",
     "text": [
      "Alithya Oracle Cloud Payroll Offshore Consultant \n",
      "\n",
      "Alithya is a cloud-based technology solution group that leverages 25 years of Oracle expertise to drive system value to our customers. Our core competencies include implementing Oracle’s Cloud ERP, HCM, EPM and BI applications. \n",
      "\n",
      "We demonstrate commitment to our employees and customers. We seek individuals who share that commitment and want to join a firm that: \n",
      "\n",
      "• Is experiencing rapid growth \n",
      "\n",
      "• Is committed to a higher level of service \n",
      "• Is dedicated to customer success \n",
      "• Upholds high ethical standards \n",
      "• Promotes an entrepreneurial spirit \n",
      "\n",
      "\n",
      "\n",
      "Position Overview\n",
      "Alithya is seeking highly motivated, career-oriented Oracle Cloud HCM Consultant to join our growing offshore Oracle Cloud Applications Center of Excellent (COE) Team. Your primary responsibility will be to configure, build fast formulas, load and validate data files in the Oracle HCM Cloud to meet the unique business needs of Alithya’s Client base. We are looking for candidates who are passionate about delivering consistently great experiences and superior quality work products to our clients.\n",
      "\n",
      "\n",
      "Responsibilities:\n",
      "\n",
      "Work in tandem and effectively communicate with the onshore lead consultant\n",
      "\n",
      "Interpret configuration workbook and configure client’s environment based on specifications within the workbook.\n",
      "\n",
      "Migrate configurations between environments\n",
      "\n",
      "Work on data migration activities, ensuring the accurate and secure transfer of Payroll data from legacy systems to Oracle Cloud HCM.\n",
      "\n",
      "Identify functionality gaps and develop solutions to them.\n",
      "\n",
      "Interact with the project team members responsible for developing reports, interfaces, data conversion programs, application extensions and develop functional specifications for these deliverables.\n",
      "\n",
      "Develop and execute test plans to ensure the proper functioning of configurations and integrations to ensure smooth handoff to onshore consultant.\n",
      "\n",
      "Identify and resolve issues during the testing phase.\n",
      "\n",
      "Work with peers to continuously improve delivery model in an effort to provide the most value to customers while increasing project delivery efficiency.\n",
      "\n",
      "Work with and mentor junior level associates to ensure their professional growth and ability to contribute to company growth.\n",
      "\n",
      "\n",
      "\n",
      "Job Qualifications/Required Skills:\n",
      "\n",
      "Bachelor’s degree\n",
      "\n",
      "Minimum of 3 years experiences in a Functional Lead role\n",
      "\n",
      "Oracle certification is a plus.\n",
      "\n",
      "Oracle Cloud Payroll experience required\n",
      "\n",
      "Experience with configuration, data conversions, and fast formulas\n",
      "\n",
      "Tax Balance Conversion experience is a plus\n",
      "\n",
      "Knowledge of Cloud HCM processes\n",
      "\n",
      "Experience with additional modules, ie., Recruiting, HR Core, Benefits, Absence, etc. is certainly welcome\n",
      "\n",
      "Excellent interpersonal, communication and presentation skills\n",
      "\n",
      "Self-motivated and able to plan work effort and manage priorities\n",
      "\n",
      "Ability to effectively work in a remote model with clients and peers\n",
      "\n",
      "Demonstrated ability to convey complex information in a clear and concise manner\n",
      "\n",
      "Previous implementation lead experience is a plus\n"
     ]
    }
   ],
   "source": [
    "import time\n",
    "start_time = time.time()\n",
    "os.chdir(r'C:\\Users\\SAURABH\\Desktop\\Proso\\JD')\n",
    "job_desc = docx2txt.process('Alithya - Oracle Cloud Payroll Offshore Consultant - HCM Practice.docx')\n",
    "print(job_desc)"
   ]
  },
  {
   "cell_type": "markdown",
   "metadata": {
    "id": "BgoOIHvZ8QQr"
   },
   "source": [
    "# **Job Desciption (OpenAI)**"
   ]
  },
  {
   "cell_type": "code",
   "execution_count": 118,
   "metadata": {
    "id": "rETfH5jjCDSY"
   },
   "outputs": [],
   "source": [
    "from openai import OpenAI\n",
    "from openai import ChatCompletion\n",
    "client = OpenAI(api_key='sk-proj-rYtTFLIIe77B82d4hg8uT3BlbkFJdsAO5CEd0wPSLJxgrb6z')\n",
    "def jdai(job_desc):\n",
    "  responsejd = client.chat.completions.create(\n",
    "      model=\"gpt-3.5-turbo-16k\",\n",
    "      messages=[\n",
    "          {\n",
    "              \"role\": \"system\",\n",
    "              \"content\": [\n",
    "                  {\n",
    "                      \"text\": \"Extract Important features and details from the job description.Avoid benefits and application deadline. Only include responsibilities and qualifications. Check for requirements of the job roles given\",\n",
    "                      \"type\": \"text\"\n",
    "                  }\n",
    "              ]\n",
    "          },\n",
    "          {\n",
    "              \"role\": \"user\",\n",
    "              \"content\": [\n",
    "                  {\n",
    "                      \"text\": job_desc,\n",
    "                      \"type\": \"text\"\n",
    "                  }\n",
    "              ]\n",
    "          }\n",
    "      ],\n",
    "      temperature=1,\n",
    "      max_tokens=256,\n",
    "      top_p=1,\n",
    "      frequency_penalty=0,\n",
    "      presence_penalty=0,\n",
    "  )\n",
    "  return(responsejd.choices[0].message.content)\n",
    "responsejd = jdai(job_desc)"
   ]
  },
  {
   "cell_type": "markdown",
   "metadata": {
    "id": "tMm-smIiJIoQ"
   },
   "source": [
    "# **Resume Extraction Function(Open AI)**"
   ]
  },
  {
   "cell_type": "code",
   "execution_count": 119,
   "metadata": {
    "id": "ggVaD66nJH-6"
   },
   "outputs": [],
   "source": [
    "def cvai(resume):\n",
    "  responsecv = client.chat.completions.create(\n",
    "      model=\"gpt-3.5-turbo\",\n",
    "      messages=[\n",
    "          {\n",
    "              \"role\": \"system\",\n",
    "              \"content\": [\n",
    "                  {\n",
    "                      \"text\": \"Extract Important features and details from the resume. Education, qualifications, skills, work experience matters the most. Remove all punctuations from the text too\",\n",
    "                      \"type\": \"text\"\n",
    "                  }\n",
    "              ]\n",
    "          },\n",
    "          {\n",
    "              \"role\": \"user\",\n",
    "              \"content\": [\n",
    "                  {\n",
    "                      \"text\": resume,\n",
    "                      \"type\": \"text\"\n",
    "                  }\n",
    "              ]\n",
    "          }\n",
    "      ],\n",
    "      temperature=1,\n",
    "      max_tokens=256,\n",
    "      top_p=1,\n",
    "      frequency_penalty=0,\n",
    "      presence_penalty=0\n",
    "  )\n",
    "  return(responsecv.choices[0].message.content)\n"
   ]
  },
  {
   "cell_type": "markdown",
   "metadata": {
    "id": "ZDCcovQwGvHU"
   },
   "source": [
    "# **Evaluating Function With Remark(Open AI)**"
   ]
  },
  {
   "cell_type": "code",
   "execution_count": 131,
   "metadata": {
    "id": "PkLexthjGuFc"
   },
   "outputs": [],
   "source": [
    "def remark(a,b):\n",
    "  responsecv = client.chat.completions.create(\n",
    "      model=\"gpt-4o\",\n",
    "      messages=[\n",
    "          {\n",
    "              \"role\": \"system\",\n",
    "              \"content\": [\n",
    "                  {\n",
    "                      \"text\": f'I performed a function to compare a job description with a resume to produce an output from 0 to 1 where 1 indicates perfect candidate for the job. Your task is that you have to give a justification of the score. Use your knowledge to evaluate everything from the education skills, job experience, designation, organization ever worked, skills, certifications and experience. The Job Description is: {str(responsejd)}, the Score is {b}. Only produce the output in text, refrain from producing any score',\n",
    "                      \"type\": \"text\"\n",
    "                  }\n",
    "              ]\n",
    "          },\n",
    "          {\n",
    "              \"role\": \"user\",\n",
    "              \"content\": [\n",
    "{\n",
    "                      \"text\": a,\n",
    "                      \"type\": \"text\"\n",
    "                  }\n",
    "              ]\n",
    "          }\n",
    "      ],\n",
    "      temperature=1,\n",
    "      max_tokens=450,\n",
    "      top_p=1,\n",
    "      frequency_penalty=0,\n",
    "      presence_penalty=0\n",
    "  )\n",
    "  return(responsecv.choices[0].message.content)"
   ]
  },
  {
   "cell_type": "markdown",
   "metadata": {
    "id": "TZiqOAetnIQh"
   },
   "source": [
    "#**Comparing & Evaluating Function(Open AI)**"
   ]
  },
  {
   "cell_type": "code",
   "execution_count": 121,
   "metadata": {},
   "outputs": [
    {
     "name": "stdout",
     "output_type": "stream",
     "text": [
      "Responsibilities:\n",
      "\n",
      "- Work in tandem and effectively communicate with the onshore lead consultant\n",
      "- Interpret configuration workbook and configure client’s environment based on specifications within the workbook.\n",
      "- Migrate configurations between environments\n",
      "- Work on data migration activities, ensuring the accurate and secure transfer of Payroll data from legacy systems to Oracle Cloud HCM.\n",
      "- Identify functionality gaps and develop solutions to them.\n",
      "- Interact with the project team members responsible for developing reports, interfaces, data conversion programs, application extensions and develop functional specifications for these deliverables.\n",
      "- Develop and execute test plans to ensure the proper functioning of configurations and integrations to ensure smooth handoff to onshore consultant.\n",
      "- Identify and resolve issues during the testing phase.\n",
      "- Work with peers to continuously improve delivery model in an effort to provide the most value to customers while increasing project delivery efficiency.\n",
      "- Work with and mentor junior level associates to ensure their professional growth and ability to contribute to company growth.\n",
      "\n",
      "Job Qualifications/Required Skills:\n",
      "\n",
      "- Bachelor’s degree\n",
      "- Minimum of 3 years experiences in a Functional Lead role\n",
      "- Oracle certification is a plus.\n",
      "- Oracle Cloud Payroll experience required\n",
      "- Experience with configuration, data conversions, and fast formulas\n",
      "- Tax Balance Conversion experience is a plus\n",
      "- Knowledge of Cloud HCM processes\n"
     ]
    }
   ],
   "source": [
    "print(responsejd)"
   ]
  },
  {
   "cell_type": "code",
   "execution_count": 122,
   "metadata": {
    "id": "xTjLpepTm_fm"
   },
   "outputs": [],
   "source": [
    "def eval(a):\n",
    "    responsecv = client.chat.completions.create(\n",
    "          model=\"gpt-3.5-turbo\",\n",
    "          messages=[\n",
    "              {\n",
    "                  \"role\": \"system\",\n",
    "                  \"content\": [\n",
    "                      {\n",
    "                          \"text\": f'Compare the job description (Study it well) with the resume (will be provided). This is one of the many resumes which will be compared, so be careful with your performance. Compare and evaluate a score from 0 to 1 where 1 means perfection(the score can be in upto 4 digits after the decimal point). Use your knowledge to evaluate everything from the education skills, job experience, designation, organization ever worked, skills, certifications and experience. Try to evaluate like a human. In the end return a score (0 to 1). Only return the score number. The Job Description is: {str(responsejd)}',\n",
    "                          \"type\": \"text\"\n",
    "                      }\n",
    "                  ]\n",
    "              },\n",
    "              {\n",
    "                  \"role\": \"user\",\n",
    "                  \"content\": [\n",
    "    {\n",
    "                          \"text\": a,\n",
    "                          \"type\": \"text\"\n",
    "                      }\n",
    "                  ]\n",
    "              }\n",
    "          ],\n",
    "          temperature=1,\n",
    "          max_tokens=256,\n",
    "          top_p=1,\n",
    "          frequency_penalty=0,\n",
    "          presence_penalty=0\n",
    "        \n",
    "      )\n",
    "    return(responsecv.choices[0].message.content)\n"
   ]
  },
  {
   "cell_type": "markdown",
   "metadata": {
    "id": "n1gdAVywLZBB"
   },
   "source": [
    "# **Actual Comparing & Scoring**"
   ]
  },
  {
   "cell_type": "code",
   "execution_count": 123,
   "metadata": {},
   "outputs": [],
   "source": [
    "def return_float(generated_text):\n",
    "    try:\n",
    "        return float(generated_text)\n",
    "    except Exception as e:\n",
    "            return return_float(eval(generated_text))"
   ]
  },
  {
   "cell_type": "code",
   "execution_count": 124,
   "metadata": {
    "id": "NQQfngZMUKXk"
   },
   "outputs": [],
   "source": [
    "def run_with_retry_until_success(resume, delay=1, max_attempts=2):\n",
    "        try:\n",
    "            return eval(resume)\n",
    "        except Exception as e:\n",
    "            print(f\"Resume {m+1} failed with error: {e}\")"
   ]
  },
  {
   "cell_type": "code",
   "execution_count": 125,
   "metadata": {},
   "outputs": [
    {
     "name": "stdout",
     "output_type": "stream",
     "text": [
      "[0.9456, 0.9257, 0.9323, 0.84, 0.875, 0.9575, 0.9653, 0.9764, 0.95, 0.95, 0.92, 0.9896, 0.9871]\n",
      "26.21802806854248\n"
     ]
    }
   ],
   "source": [
    "#Comparing And Ranking\n",
    "per = [0]*len(file_paths)\n",
    "#import time\n",
    "#start_time = time.time()\n",
    "for m in range(len(file_paths)):\n",
    "    if file_paths[m].endswith('.pdf'):\n",
    "      txt = \"\"\n",
    "      doc = pymupdf.open(file_paths[m])\n",
    "      for page in doc:\n",
    "        text = page.get_text()\n",
    "        txt = txt + text\n",
    "      txt = \"\".join(txt.splitlines())\n",
    "      rand_m = run_with_retry_until_success(txt)\n",
    "      per[m] = return_float(rand_m)\n",
    "      if per[m] == 0:\n",
    "        rand_m = run_with_retry_until_success(txt)\n",
    "        per[m] = return_float(rand_m)\n",
    "    elif file_paths[m].endswith('.docx'):\n",
    "      resume = docx2txt.process(file_paths[m])\n",
    "      resume = \"\".join(resume.splitlines())\n",
    "      rand_m = run_with_retry_until_success(resume)\n",
    "      per[m] = return_float(rand_m)\n",
    "      if per[m] == 0:\n",
    "        rand_m = run_with_retry_until_success(resume)\n",
    "        per[m] = return_float(rand_m)\n",
    "    elif file_paths[m].endswith('.doc'):\n",
    "      resume = docx2txt.process(file_paths[m])\n",
    "      resume = \"\".join(resume.splitlines())\n",
    "      rand_m = run_with_retry_until_success(resume)\n",
    "      per[m] = return_float(rand_m)\n",
    "      if per[m] == 0:\n",
    "        rand_m = run_with_retry_until_success(resume)\n",
    "        per[m] = return_float(rand_m)\n",
    "end_time = time.time()\n",
    "print(per)\n",
    "print(end_time - start_time)"
   ]
  },
  {
   "cell_type": "markdown",
   "metadata": {
    "id": "vWUTtV5tX5FW"
   },
   "source": [
    "# **Providing the File Path of the Ranked CV's**"
   ]
  },
  {
   "cell_type": "code",
   "execution_count": 126,
   "metadata": {
    "colab": {
     "base_uri": "https://localhost:8080/"
    },
    "id": "oHPDJJu0sYqY",
    "outputId": "1cc565f6-d02f-4c70-975e-0f81aa0163d1"
   },
   "outputs": [
    {
     "name": "stdout",
     "output_type": "stream",
     "text": [
      "How many CV's do you wanna see: 3\n",
      "['C:\\\\Users\\\\SAURABH\\\\Desktop\\\\Proso\\\\Resume\\\\CV96_Padmavathi Yedulla_Oracle Cloud Payroll Consutlant.docx', 'C:\\\\Users\\\\SAURABH\\\\Desktop\\\\Proso\\\\Resume\\\\CV96_Padmavathi Yedulla_Oracle Cloud Payroll Consutlant.pdf', 'C:\\\\Users\\\\SAURABH\\\\Desktop\\\\Proso\\\\Resume\\\\CV104_Amit Kumar_Oracle Cloud Payroll.docx']\n"
     ]
    }
   ],
   "source": [
    "#Merging the score with their respective file path\n",
    "def countList(lst1, lst2):\n",
    "\treturn [sub[item] for item in range(len(lst2))\n",
    "\t\t\t\t\tfor sub in [lst1, lst2]]\n",
    "combined = countList(per,file_paths)\n",
    "#Sorts and edits the list with only retaining the ranked file paths\n",
    "def sort(data):\n",
    "  sorted_data = sorted(zip(data[::2], data[1::2]), key=lambda x: x[0])\n",
    "  sorted_numbers, sorted_text = zip(*sorted_data)\n",
    "  return [*sorted_numbers, *sorted_text]\n",
    "combined = sort(combined)\n",
    "combined = combined[::-1]\n",
    "combined = combined[:len(combined)//2]\n",
    "#a function that will return the path of the top ranked resume\n",
    "def top(combined):\n",
    "  number_of_resume_required = int(input(\"How many CV's do you wanna see: \"))\n",
    "  final = [0]*number_of_resume_required\n",
    "  if number_of_resume_required <= len(combined):\n",
    "    for j in range(number_of_resume_required):\n",
    "      final[j] = combined[0+j]\n",
    "    return final\n",
    "  else:\n",
    "    print(\"Exceeding the number of profiles, try again\")\n",
    "    return top(combined)\n",
    "resume_paths = top(combined)\n",
    "print(resume_paths)"
   ]
  },
  {
   "cell_type": "markdown",
   "metadata": {
    "id": "EViOESglYbso"
   },
   "source": [
    "# **Remark Generator**"
   ]
  },
  {
   "cell_type": "code",
   "execution_count": 127,
   "metadata": {},
   "outputs": [
    {
     "data": {
      "text/plain": [
       "[0.9896,\n",
       " 0.9871,\n",
       " 0.9764,\n",
       " 0.9653,\n",
       " 0.9575,\n",
       " 0.95,\n",
       " 0.95,\n",
       " 0.9456,\n",
       " 0.9323,\n",
       " 0.9257,\n",
       " 0.92,\n",
       " 0.875,\n",
       " 0.84]"
      ]
     },
     "execution_count": 127,
     "metadata": {},
     "output_type": "execute_result"
    }
   ],
   "source": [
    "start_time = time.time()\n",
    "srtscore = per\n",
    "srtscore.sort(reverse=True)\n",
    "srtscore"
   ]
  },
  {
   "cell_type": "code",
   "execution_count": 128,
   "metadata": {},
   "outputs": [],
   "source": [
    "def best_remark(m,srtscore):\n",
    "    if resume_paths[m].endswith('.pdf'):\n",
    "      txt = \"\"\n",
    "      doc = pymupdf.open(file_paths[m])\n",
    "      for page in doc:\n",
    "        text = page.get_text()\n",
    "        txt = txt + text\n",
    "      txt = \"\".join(txt.splitlines())\n",
    "      return remark(txt,srtscore)\n",
    "    elif resume_paths[m].endswith('.docx'):\n",
    "      resume = docx2txt.process(file_paths[m])\n",
    "      resume = \"\".join(resume.splitlines())\n",
    "      return remark(resume,srtscore)  \n",
    "    elif resume_paths[m].endswith('.doc'):\n",
    "      resume = docx2txt.process(file_paths[m])\n",
    "      resume = \"\".join(resume.splitlines())\n",
    "      return remark(resume,srtscore)"
   ]
  },
  {
   "cell_type": "code",
   "execution_count": 129,
   "metadata": {
    "id": "35GlaI-jDQMw"
   },
   "outputs": [
    {
     "name": "stdout",
     "output_type": "stream",
     "text": [
      "Anusha S appears to be an excellent match for the job position, given the described responsibilities and qualifications. Based on the provided information, here is a detailed justification:\n",
      "\n",
      "### Education and Certifications\n",
      "- **Bachelor’s Degree**: Anusha has a B.Tech in Information Technology, which meets the minimum education requirement.\n",
      "- **Oracle Certification**: Although an Oracle certification is a plus, it is not mandatory. Anusha does not have an Oracle certification but has substantial relevant experience which could compensate for this.\n",
      "\n",
      "### Experience\n",
      "- **Total Experience**: Anusha has over 6 years of IT experience, with more than two years specifically in Oracle Fusion HCM Functional Consulting, especially focusing on Payroll. This exceeds the minimum requirement of 3 years.\n",
      "- **Oracle Cloud Payroll**: She has direct hands-on experience with Oracle Fusion HCM Payroll, which is a key requirement for the job.\n",
      "- **Functional Lead Role**: While the job requires 3 years in a Functional Lead role, Anusha has 2.2 years in a relevant functional role, almost meeting this criterion. Her role involved responsibilities such as configuring core HR and payroll settings and handling support issues, which are indicative of leadership potential.\n",
      "\n",
      "### Skills\n",
      "- **Configuration and Data Migration**: Anusha has significant experience in configuring various payroll and HR elements and has been involved in data migration using HCM Data Loader (HDL), meeting the job requirement for experience in configuration and data conversion.\n",
      "- **Tax Balance Conversion**: No experience specifically mentioned. This might be a minor gap.\n",
      "- **Fast Formulas**: Although she has limited direct experience, Anusha has worked on similar tasks and is eager to learn. This indicates potential to quickly adapt.\n",
      "- **Cloud HCM Processes**: She has hands-on experience with Oracle Fusion HCM and has worked on multiple projects involving payroll and core HR modules, aligning well with the job’s demands.\n",
      "- **Additional Modules**: She has good experience with Core HR and Absence modules, aligning with the requirements.\n",
      "\n",
      "### Soft Skills and Other Qualifications\n",
      "- **Communication**: Anusha has demonstrated strong communication and collaboration skills, which are essential for interacting with the project team and clients.\n",
      "- **Project Experience**: She has not worked in an Agile environment, but her experience with issue tracking tools like Jira and handling multiple support and implementation projects indicates good adaptability.\n",
      "- **Team Interaction**: Proficient in leading initiatives and engaging with clients and team members, ensuring her fit into the collaborative environment described.\n",
      "- **Professional Growth**: Her willingness to mentor junior associates aligns with the job’s requirement to work with and mentor junior level associates.\n",
      "\n",
      "### Additional Considerations\n",
      "- **Health and Availability**: Anusha is immediately available and actively looking for opportunities, which could be a logistical advantage.\n",
      "- **Location Flexibility**: Willingness to work from Hyderabad fits her and potentially aligns with the job's location requirements, if any.\n",
      "\n",
      "### Summary\n",
      "Anusha’s background, skills\n",
      "-----\n",
      "**Justification for Candidate Fit for the Job Description:**\n",
      "\n",
      "**Education**\n",
      "- **Meets Requirements:** Vijay possesses an MBA in HR, which exceeds the Bachelor’s degree requirement listed in the job description.\n",
      "\n",
      "**Professional Experience**\n",
      "- **Meets Requirements:** Vijay has 4.5+ years of experience in Oracle HCM, surpassing the minimum requirement of 3 years.\n",
      "- **No Certification:** The candidate does not hold any Oracle certification which would have been a positive but not a strict requirement for the job.\n",
      "\n",
      "**Relevant Skills and Experience**\n",
      "- **Oracle Cloud Payroll Experience:** Vijay has practical experience in Oracle Payroll modules, a critical requirement.\n",
      "- **Configuration Experience:** He has solid experience with configuration and data conversions which aligns well with the job requirements. However, he lacks experience with fast formulas and Tax Balance Conversion, which are either required or preferable.\n",
      "- **Cloud HCM Processes:** Vijay has average knowledge of Cloud HCM processes, which meets the requirements, although there is room for improvement.\n",
      "  \n",
      "**Technical Experience**\n",
      "- **Implementation Experience:** The candidate has been involved in several implementations and system configurations, fulfilling the specified requirement.\n",
      "- **Data Migration:** Vijay has hands-on experience with data migration using tools like HDL and Spreadsheet Loader, crucial for ensuring smooth data transitions to Oracle Cloud HCM.\n",
      "- **Testing and Validation:** He is involved in developing test scenarios and reviewing test scripts, aligning directly with one of the required responsibilities.\n",
      "- **Security and Reporting:** Experience in configuring security aspects and generating comprehensive reports using tools like BI Publisher and OTBI ensures his capability to handle intricate project tasks.\n",
      "\n",
      "**Soft Skills**\n",
      "- **Communication Skills:** Vijay’s ability to communicate effectively and manage documentation tasks suggests he can interact well with project team members and onshore leads, though his communication skills are rated as average.\n",
      "- **Project Management and Problem-Solving:** The candidate has shown adeptness in managing projects from configuration to execution, apart from resolving issues during testing phases, which indicates strong problem-solving abilities.\n",
      "- **Interpersonal Skills:** He is rated as good in working with established firms and managing stakeholder requirements effectively, indicating solid interpersonal skills needed to mentor junior associates and improve the delivery model.\n",
      "\n",
      "**Professional Growth and Adaptability**\n",
      "- **Leadership and Mentorship:** His role in guiding junior associates and working closely with project teams underlines his leadership and mentorship capabilities.\n",
      "- **Adaptability:** Vijay’s extensive involvement in different facets of HCM modules showcases his adaptability and continuous improvement, which are valued for optimizing project delivery.\n",
      "\n",
      "**Conclusion**\n",
      "Vijay Galimutti is a highly qualified candidate for the job, fulfilling most of the role’s requirements related to education, relevant payroll experience, configuration, data migration, and having a strong HCM cloud process knowledge base. His lack of Oracle certification and experience with fast formulas and tax balance conversion presents minor gaps, but his extensive practical experience, strong project management skills, and effective communication abilities justify a near-perfect match for the role.\n",
      "-----\n",
      "Based on the provided job description and the analysis of the candidate's resume, the following justification should be considered for the high compatibility score:\n",
      "\n",
      "### Education\n",
      "- **Requirement:** Bachelor's degree.\n",
      "- **Candidate Details:** B.Tech (Bachelor’s Information Technology) from Jawaharlal Nehru Technological University (JNTU).\n",
      "- **Justification:** Meets the educational requirement.\n",
      "\n",
      "### Experience\n",
      "- **Requirement:** Minimum of 3 years in a Functional Lead role and Oracle Cloud Payroll experience.\n",
      "- **Candidate Details:** Over 6 years in HCM cloud domain; 5.5 years in Oracle Cloud HCM; experience includes roles as Techno-Functional Consultant and Technical Analyst.\n",
      "- **Justification:** Exceeds the minimum experience requirement, especially in Oracle Cloud HCM.\n",
      "\n",
      "### Certifications\n",
      "- **Requirement:** Oracle certification is a plus.\n",
      "- **Candidate Details:** No Oracle certification.\n",
      "- **Justification:** Missing the Oracle certification, which is a plus but not a mandatory requirement.\n",
      "\n",
      "### Skills\n",
      "- **Configuration, Data Conversions, and Fast Formulas:**\n",
      "  - **Requirement:** Experience required.\n",
      "  - **Candidate Details:** Rated good in this skill; has performed data migration, worked on HCM Extracts, OTBI, and BI reports.\n",
      "  - **Justification:** Meets the requirement effectively.\n",
      "\n",
      "- **Tax Balance Conversion:**\n",
      "  - **Requirement:** Experience is a plus.\n",
      "  - **Candidate Details:** Rated below average.\n",
      "  - **Justification:** Lacks this specific experience but it is a plus, not a crucial requirement.\n",
      "\n",
      "- **Knowledge of Cloud HCM Processes:**\n",
      "  - **Requirement:** Required.\n",
      "  - **Candidate Details:** Rated average.\n",
      "  - **Justification:** Meets the requirement adequately.\n",
      "\n",
      "- **Additional Modules Experience:**\n",
      "  - **Requirement:** Experience with modules such as Recruiting, HR Core, Benefits, Absence.\n",
      "  - **Candidate Details:** Experienced in Core HR, Payroll, Absence, Compensation.\n",
      "  - **Justification:** Exceeds expectations with additional relevant module experience.\n",
      "\n",
      "- **Communication and Presentation Skills:**\n",
      "  - **Requirement:** Excellent skills required.\n",
      "  - **Candidate Details:** Rated average.\n",
      "  - **Justification:** Meets but does not exceed the requirement.\n",
      "\n",
      "### Responsibilities\n",
      "- **Functional Consulting:**\n",
      "  - **Requirement:** Develop functional specifications, execute test plans, and identify issues.\n",
      "  - **Candidate Details:** Experienced in developing BI and OTBI reports, UAT testing, implementing HCM configurations, working on support issues.\n",
      "  - **Justification:** Meets and often exceeds these responsibilities.\n",
      "\n",
      "- **Mentoring:**\n",
      "  - **Requirement:** Work with and mentor junior associates.\n",
      "  - **Candidate Details:** Not specifically mentioned in the candidate's experience.\n",
      "  - **Justification:** Possible area of improvement, though overall qualifications strongly align with the role.\n",
      "\n",
      "- **Project and Client Interaction:**\n",
      "  - **Requirement:** Excellent client interaction and teamwork.\n",
      "  - **Candidate Details:** Noted\n",
      "-----\n"
     ]
    }
   ],
   "source": [
    "import re\n",
    "s=str(re.escape(\"_\"))\n",
    "e=str(re.escape(\"_Oracle\"))\n",
    "resume_name = [0]*len(resume_paths)\n",
    "resume_remark= [0]*len(resume_paths)\n",
    "for i in range(len(resume_paths)):\n",
    "    resume_name[i] = re.findall(s+\"(.*)\"+e,resume_paths[i])[0]\n",
    "    resume_remark[i] = best_remark(i,srtscore[i])\n",
    "    print(resume_remark[i])\n",
    "    print(\"-----\")"
   ]
  },
  {
   "cell_type": "code",
   "execution_count": 130,
   "metadata": {},
   "outputs": [
    {
     "name": "stdout",
     "output_type": "stream",
     "text": [
      "35.85027623176575\n"
     ]
    }
   ],
   "source": [
    "end_time = time.time()\n",
    "print(end_time - start_time)"
   ]
  }
 ],
 "metadata": {
  "colab": {
   "provenance": []
  },
  "kernelspec": {
   "display_name": "Python 3 (ipykernel)",
   "language": "python",
   "name": "python3"
  },
  "language_info": {
   "codemirror_mode": {
    "name": "ipython",
    "version": 3
   },
   "file_extension": ".py",
   "mimetype": "text/x-python",
   "name": "python",
   "nbconvert_exporter": "python",
   "pygments_lexer": "ipython3",
   "version": "3.9.12"
  }
 },
 "nbformat": 4,
 "nbformat_minor": 1
}
